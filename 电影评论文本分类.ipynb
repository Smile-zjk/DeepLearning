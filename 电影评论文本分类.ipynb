{
  "nbformat": 4,
  "nbformat_minor": 0,
  "metadata": {
    "colab": {
      "name": "电影评论文本分类",
      "provenance": [],
      "authorship_tag": "ABX9TyPwo+HpfA9f9kJ19kPw2Ljy",
      "include_colab_link": true
    },
    "kernelspec": {
      "name": "python3",
      "display_name": "Python 3"
    }
  },
  "cells": [
    {
      "cell_type": "markdown",
      "metadata": {
        "id": "view-in-github",
        "colab_type": "text"
      },
      "source": [
        "<a href=\"https://colab.research.google.com/github/Smile-zjk/DeepLearning/blob/master/%E7%94%B5%E5%BD%B1%E8%AF%84%E8%AE%BA%E6%96%87%E6%9C%AC%E5%88%86%E7%B1%BB.ipynb\" target=\"_parent\"><img src=\"https://colab.research.google.com/assets/colab-badge.svg\" alt=\"Open In Colab\"/></a>"
      ]
    },
    {
      "cell_type": "code",
      "metadata": {
        "id": "2uQrGxMNxzTr",
        "colab_type": "code",
        "colab": {
          "base_uri": "https://localhost:8080/",
          "height": 648
        },
        "outputId": "726f06d9-b791-4030-f193-fb1e6143b16e"
      },
      "source": [
        "!pip install tensorflow-gpu"
      ],
      "execution_count": 15,
      "outputs": [
        {
          "output_type": "stream",
          "text": [
            "Requirement already satisfied: tensorflow-gpu in /usr/local/lib/python3.6/dist-packages (2.1.0)\n",
            "Requirement already satisfied: astor>=0.6.0 in /usr/local/lib/python3.6/dist-packages (from tensorflow-gpu) (0.8.1)\n",
            "Requirement already satisfied: keras-applications>=1.0.8 in /usr/local/lib/python3.6/dist-packages (from tensorflow-gpu) (1.0.8)\n",
            "Requirement already satisfied: six>=1.12.0 in /usr/local/lib/python3.6/dist-packages (from tensorflow-gpu) (1.12.0)\n",
            "Requirement already satisfied: wrapt>=1.11.1 in /usr/local/lib/python3.6/dist-packages (from tensorflow-gpu) (1.11.2)\n",
            "Requirement already satisfied: tensorboard<2.2.0,>=2.1.0 in /usr/local/lib/python3.6/dist-packages (from tensorflow-gpu) (2.1.0)\n",
            "Requirement already satisfied: protobuf>=3.8.0 in /usr/local/lib/python3.6/dist-packages (from tensorflow-gpu) (3.10.0)\n",
            "Requirement already satisfied: absl-py>=0.7.0 in /usr/local/lib/python3.6/dist-packages (from tensorflow-gpu) (0.9.0)\n",
            "Requirement already satisfied: opt-einsum>=2.3.2 in /usr/local/lib/python3.6/dist-packages (from tensorflow-gpu) (3.1.0)\n",
            "Requirement already satisfied: google-pasta>=0.1.6 in /usr/local/lib/python3.6/dist-packages (from tensorflow-gpu) (0.1.8)\n",
            "Requirement already satisfied: scipy==1.4.1; python_version >= \"3\" in /usr/local/lib/python3.6/dist-packages (from tensorflow-gpu) (1.4.1)\n",
            "Requirement already satisfied: wheel>=0.26; python_version >= \"3\" in /usr/local/lib/python3.6/dist-packages (from tensorflow-gpu) (0.34.2)\n",
            "Requirement already satisfied: grpcio>=1.8.6 in /usr/local/lib/python3.6/dist-packages (from tensorflow-gpu) (1.27.1)\n",
            "Requirement already satisfied: keras-preprocessing>=1.1.0 in /usr/local/lib/python3.6/dist-packages (from tensorflow-gpu) (1.1.0)\n",
            "Requirement already satisfied: tensorflow-estimator<2.2.0,>=2.1.0rc0 in /usr/local/lib/python3.6/dist-packages (from tensorflow-gpu) (2.1.0)\n",
            "Requirement already satisfied: gast==0.2.2 in /usr/local/lib/python3.6/dist-packages (from tensorflow-gpu) (0.2.2)\n",
            "Requirement already satisfied: termcolor>=1.1.0 in /usr/local/lib/python3.6/dist-packages (from tensorflow-gpu) (1.1.0)\n",
            "Requirement already satisfied: numpy<2.0,>=1.16.0 in /usr/local/lib/python3.6/dist-packages (from tensorflow-gpu) (1.17.5)\n",
            "Requirement already satisfied: h5py in /usr/local/lib/python3.6/dist-packages (from keras-applications>=1.0.8->tensorflow-gpu) (2.8.0)\n",
            "Requirement already satisfied: requests<3,>=2.21.0 in /usr/local/lib/python3.6/dist-packages (from tensorboard<2.2.0,>=2.1.0->tensorflow-gpu) (2.21.0)\n",
            "Requirement already satisfied: google-auth<2,>=1.6.3 in /usr/local/lib/python3.6/dist-packages (from tensorboard<2.2.0,>=2.1.0->tensorflow-gpu) (1.7.2)\n",
            "Requirement already satisfied: werkzeug>=0.11.15 in /usr/local/lib/python3.6/dist-packages (from tensorboard<2.2.0,>=2.1.0->tensorflow-gpu) (1.0.0)\n",
            "Requirement already satisfied: markdown>=2.6.8 in /usr/local/lib/python3.6/dist-packages (from tensorboard<2.2.0,>=2.1.0->tensorflow-gpu) (3.2.1)\n",
            "Requirement already satisfied: google-auth-oauthlib<0.5,>=0.4.1 in /usr/local/lib/python3.6/dist-packages (from tensorboard<2.2.0,>=2.1.0->tensorflow-gpu) (0.4.1)\n",
            "Requirement already satisfied: setuptools>=41.0.0 in /usr/local/lib/python3.6/dist-packages (from tensorboard<2.2.0,>=2.1.0->tensorflow-gpu) (45.1.0)\n",
            "Requirement already satisfied: urllib3<1.25,>=1.21.1 in /usr/local/lib/python3.6/dist-packages (from requests<3,>=2.21.0->tensorboard<2.2.0,>=2.1.0->tensorflow-gpu) (1.24.3)\n",
            "Requirement already satisfied: idna<2.9,>=2.5 in /usr/local/lib/python3.6/dist-packages (from requests<3,>=2.21.0->tensorboard<2.2.0,>=2.1.0->tensorflow-gpu) (2.8)\n",
            "Requirement already satisfied: certifi>=2017.4.17 in /usr/local/lib/python3.6/dist-packages (from requests<3,>=2.21.0->tensorboard<2.2.0,>=2.1.0->tensorflow-gpu) (2019.11.28)\n",
            "Requirement already satisfied: chardet<3.1.0,>=3.0.2 in /usr/local/lib/python3.6/dist-packages (from requests<3,>=2.21.0->tensorboard<2.2.0,>=2.1.0->tensorflow-gpu) (3.0.4)\n",
            "Requirement already satisfied: rsa<4.1,>=3.1.4 in /usr/local/lib/python3.6/dist-packages (from google-auth<2,>=1.6.3->tensorboard<2.2.0,>=2.1.0->tensorflow-gpu) (4.0)\n",
            "Requirement already satisfied: cachetools<3.2,>=2.0.0 in /usr/local/lib/python3.6/dist-packages (from google-auth<2,>=1.6.3->tensorboard<2.2.0,>=2.1.0->tensorflow-gpu) (3.1.1)\n",
            "Requirement already satisfied: pyasn1-modules>=0.2.1 in /usr/local/lib/python3.6/dist-packages (from google-auth<2,>=1.6.3->tensorboard<2.2.0,>=2.1.0->tensorflow-gpu) (0.2.8)\n",
            "Requirement already satisfied: requests-oauthlib>=0.7.0 in /usr/local/lib/python3.6/dist-packages (from google-auth-oauthlib<0.5,>=0.4.1->tensorboard<2.2.0,>=2.1.0->tensorflow-gpu) (1.3.0)\n",
            "Requirement already satisfied: pyasn1>=0.1.3 in /usr/local/lib/python3.6/dist-packages (from rsa<4.1,>=3.1.4->google-auth<2,>=1.6.3->tensorboard<2.2.0,>=2.1.0->tensorflow-gpu) (0.4.8)\n",
            "Requirement already satisfied: oauthlib>=3.0.0 in /usr/local/lib/python3.6/dist-packages (from requests-oauthlib>=0.7.0->google-auth-oauthlib<0.5,>=0.4.1->tensorboard<2.2.0,>=2.1.0->tensorflow-gpu) (3.1.0)\n"
          ],
          "name": "stdout"
        }
      ]
    },
    {
      "cell_type": "code",
      "metadata": {
        "id": "_55qr6Iax8M7",
        "colab_type": "code",
        "colab": {
          "base_uri": "https://localhost:8080/",
          "height": 34
        },
        "outputId": "6cd5ee17-79ec-44da-f0fc-e139ae3a8ea4"
      },
      "source": [
        "from __future__ import absolute_import, division, print_function, unicode_literals\n",
        "\n",
        "import tensorflow as tf\n",
        "from tensorflow import keras\n",
        "\n",
        "import numpy as np\n",
        "\n",
        "print(tf.__version__)"
      ],
      "execution_count": 16,
      "outputs": [
        {
          "output_type": "stream",
          "text": [
            "2.1.0\n"
          ],
          "name": "stdout"
        }
      ]
    },
    {
      "cell_type": "code",
      "metadata": {
        "id": "b7WJAtpJyE_b",
        "colab_type": "code",
        "colab": {}
      },
      "source": [
        "imdb = keras.datasets.imdb\n",
        "\n",
        "(train_data, train_labels), (test_data, test_labels) = imdb.load_data(num_words=10000)"
      ],
      "execution_count": 0,
      "outputs": []
    },
    {
      "cell_type": "code",
      "metadata": {
        "id": "qE85B8vWyGHx",
        "colab_type": "code",
        "colab": {
          "base_uri": "https://localhost:8080/",
          "height": 34
        },
        "outputId": "4e6a1db9-ff2b-4132-eff1-4e37ebbf40b8"
      },
      "source": [
        "print(\"Training entries: {}, labels: {}\".format(len(train_data), len(train_labels)))"
      ],
      "execution_count": 18,
      "outputs": [
        {
          "output_type": "stream",
          "text": [
            "Training entries: 25000, labels: 25000\n"
          ],
          "name": "stdout"
        }
      ]
    },
    {
      "cell_type": "code",
      "metadata": {
        "id": "OJ5d4FApyJNx",
        "colab_type": "code",
        "colab": {
          "base_uri": "https://localhost:8080/",
          "height": 54
        },
        "outputId": "57669418-8542-4544-a0cb-6d09cb5752be"
      },
      "source": [
        "print(train_data[0])"
      ],
      "execution_count": 19,
      "outputs": [
        {
          "output_type": "stream",
          "text": [
            "[1, 14, 22, 16, 43, 530, 973, 1622, 1385, 65, 458, 4468, 66, 3941, 4, 173, 36, 256, 5, 25, 100, 43, 838, 112, 50, 670, 2, 9, 35, 480, 284, 5, 150, 4, 172, 112, 167, 2, 336, 385, 39, 4, 172, 4536, 1111, 17, 546, 38, 13, 447, 4, 192, 50, 16, 6, 147, 2025, 19, 14, 22, 4, 1920, 4613, 469, 4, 22, 71, 87, 12, 16, 43, 530, 38, 76, 15, 13, 1247, 4, 22, 17, 515, 17, 12, 16, 626, 18, 2, 5, 62, 386, 12, 8, 316, 8, 106, 5, 4, 2223, 5244, 16, 480, 66, 3785, 33, 4, 130, 12, 16, 38, 619, 5, 25, 124, 51, 36, 135, 48, 25, 1415, 33, 6, 22, 12, 215, 28, 77, 52, 5, 14, 407, 16, 82, 2, 8, 4, 107, 117, 5952, 15, 256, 4, 2, 7, 3766, 5, 723, 36, 71, 43, 530, 476, 26, 400, 317, 46, 7, 4, 2, 1029, 13, 104, 88, 4, 381, 15, 297, 98, 32, 2071, 56, 26, 141, 6, 194, 7486, 18, 4, 226, 22, 21, 134, 476, 26, 480, 5, 144, 30, 5535, 18, 51, 36, 28, 224, 92, 25, 104, 4, 226, 65, 16, 38, 1334, 88, 12, 16, 283, 5, 16, 4472, 113, 103, 32, 15, 16, 5345, 19, 178, 32]\n"
          ],
          "name": "stdout"
        }
      ]
    },
    {
      "cell_type": "code",
      "metadata": {
        "id": "g89Af4EsyL3o",
        "colab_type": "code",
        "colab": {
          "base_uri": "https://localhost:8080/",
          "height": 34
        },
        "outputId": "287e3b85-a20b-4228-d425-2f0bfac305da"
      },
      "source": [
        "len(train_data[0]), len(train_data[1])"
      ],
      "execution_count": 20,
      "outputs": [
        {
          "output_type": "execute_result",
          "data": {
            "text/plain": [
              "(218, 189)"
            ]
          },
          "metadata": {
            "tags": []
          },
          "execution_count": 20
        }
      ]
    },
    {
      "cell_type": "code",
      "metadata": {
        "id": "yDagA2KxyPRB",
        "colab_type": "code",
        "colab": {}
      },
      "source": [
        "# 一个映射单词到整数索引的词典\n",
        "word_index = imdb.get_word_index()\n",
        "\n",
        "# 保留第一个索引\n",
        "word_index = {k:(v+3) for k,v in word_index.items()}\n",
        "word_index[\"<PAD>\"] = 0\n",
        "word_index[\"<START>\"] = 1\n",
        "word_index[\"<UNK>\"] = 2  # unknown\n",
        "word_index[\"<UNUSED>\"] = 3\n",
        "\n",
        "reverse_word_index = dict([(value, key) for (key, value) in word_index.items()])\n",
        "\n",
        "def decode_review(text):\n",
        "    return ' '.join([reverse_word_index.get(i, '?') for i in text])"
      ],
      "execution_count": 0,
      "outputs": []
    },
    {
      "cell_type": "code",
      "metadata": {
        "id": "4vWqkD9lyVpr",
        "colab_type": "code",
        "colab": {}
      },
      "source": [
        "word_index[\"<PAD>\"]"
      ],
      "execution_count": 0,
      "outputs": []
    },
    {
      "cell_type": "code",
      "metadata": {
        "id": "WFOiSpVNyX6I",
        "colab_type": "code",
        "colab": {
          "base_uri": "https://localhost:8080/",
          "height": 54
        },
        "outputId": "0089aee9-7993-4b05-e59f-7baabad5283c"
      },
      "source": [
        "decode_review(train_data[0])"
      ],
      "execution_count": 25,
      "outputs": [
        {
          "output_type": "execute_result",
          "data": {
            "text/plain": [
              "\"<START> this film was just brilliant casting location scenery story direction everyone's really suited the part they played and you could just imagine being there robert <UNK> is an amazing actor and now the same being director <UNK> father came from the same scottish island as myself so i loved the fact there was a real connection with this film the witty remarks throughout the film were great it was just brilliant so much that i bought the film as soon as it was released for <UNK> and would recommend it to everyone to watch and the fly fishing was amazing really cried at the end it was so sad and you know what they say if you cry at a film it must have been good and this definitely was also <UNK> to the two little boy's that played the <UNK> of norman and paul they were just brilliant children are often left out of the <UNK> list i think because the stars that play them all grown up are such a big profile for the whole film but these children are amazing and should be praised for what they have done don't you think the whole story was so lovely because it was true and was someone's life after all that was shared with us all\""
            ]
          },
          "metadata": {
            "tags": []
          },
          "execution_count": 25
        }
      ]
    },
    {
      "cell_type": "code",
      "metadata": {
        "id": "CEJNGZex7E2s",
        "colab_type": "code",
        "colab": {}
      },
      "source": [
        "train_data = keras.preprocessing.sequence.pad_sequences(\n",
        "    train_data,\n",
        "    value=word_index[\"<PAD>\"],\n",
        "    padding='post',\n",
        "    maxlen=256\n",
        ")\n",
        "\n",
        "test_data = keras.preprocessing.sequence.pad_sequences(\n",
        "    test_data,\n",
        "    value=word_index[\"<PAD>\"],\n",
        "    padding='post',\n",
        "    maxlen=256)"
      ],
      "execution_count": 0,
      "outputs": []
    },
    {
      "cell_type": "code",
      "metadata": {
        "id": "nG_s4XQB7-5R",
        "colab_type": "code",
        "colab": {
          "base_uri": "https://localhost:8080/",
          "height": 34
        },
        "outputId": "2d5fc94d-27b7-4932-b6a6-0f62cfc0c7d7"
      },
      "source": [
        "len(train_data[0]), len(train_data[1])"
      ],
      "execution_count": 27,
      "outputs": [
        {
          "output_type": "execute_result",
          "data": {
            "text/plain": [
              "(256, 256)"
            ]
          },
          "metadata": {
            "tags": []
          },
          "execution_count": 27
        }
      ]
    },
    {
      "cell_type": "code",
      "metadata": {
        "id": "AkXcQAu48E_A",
        "colab_type": "code",
        "colab": {
          "base_uri": "https://localhost:8080/",
          "height": 348
        },
        "outputId": "201869a1-b366-4612-c45b-6999e2bf12c6"
      },
      "source": [
        "print(train_data[0])"
      ],
      "execution_count": 28,
      "outputs": [
        {
          "output_type": "stream",
          "text": [
            "[   1   14   22   16   43  530  973 1622 1385   65  458 4468   66 3941\n",
            "    4  173   36  256    5   25  100   43  838  112   50  670    2    9\n",
            "   35  480  284    5  150    4  172  112  167    2  336  385   39    4\n",
            "  172 4536 1111   17  546   38   13  447    4  192   50   16    6  147\n",
            " 2025   19   14   22    4 1920 4613  469    4   22   71   87   12   16\n",
            "   43  530   38   76   15   13 1247    4   22   17  515   17   12   16\n",
            "  626   18    2    5   62  386   12    8  316    8  106    5    4 2223\n",
            " 5244   16  480   66 3785   33    4  130   12   16   38  619    5   25\n",
            "  124   51   36  135   48   25 1415   33    6   22   12  215   28   77\n",
            "   52    5   14  407   16   82    2    8    4  107  117 5952   15  256\n",
            "    4    2    7 3766    5  723   36   71   43  530  476   26  400  317\n",
            "   46    7    4    2 1029   13  104   88    4  381   15  297   98   32\n",
            " 2071   56   26  141    6  194 7486   18    4  226   22   21  134  476\n",
            "   26  480    5  144   30 5535   18   51   36   28  224   92   25  104\n",
            "    4  226   65   16   38 1334   88   12   16  283    5   16 4472  113\n",
            "  103   32   15   16 5345   19  178   32    0    0    0    0    0    0\n",
            "    0    0    0    0    0    0    0    0    0    0    0    0    0    0\n",
            "    0    0    0    0    0    0    0    0    0    0    0    0    0    0\n",
            "    0    0    0    0]\n"
          ],
          "name": "stdout"
        }
      ]
    },
    {
      "cell_type": "code",
      "metadata": {
        "id": "q_wnS-vZ8Kff",
        "colab_type": "code",
        "colab": {
          "base_uri": "https://localhost:8080/",
          "height": 296
        },
        "outputId": "c8f32896-87aa-4aff-b8c8-daa6bfc98135"
      },
      "source": [
        "# 输入形状是用于电影评论的词汇数目（10,000 词）\n",
        "vocab_size = 10000\n",
        "\n",
        "model = keras.Sequential()\n",
        "model.add(keras.layers.Embedding(vocab_size, 16))\n",
        "model.add(keras.layers.GlobalAveragePooling1D())\n",
        "model.add(keras.layers.Dense(16, activation='relu'))\n",
        "model.add(keras.layers.Dense(1, activation='sigmoid'))\n",
        "\n",
        "model.summary()"
      ],
      "execution_count": 29,
      "outputs": [
        {
          "output_type": "stream",
          "text": [
            "Model: \"sequential\"\n",
            "_________________________________________________________________\n",
            "Layer (type)                 Output Shape              Param #   \n",
            "=================================================================\n",
            "embedding (Embedding)        (None, None, 16)          160000    \n",
            "_________________________________________________________________\n",
            "global_average_pooling1d (Gl (None, 16)                0         \n",
            "_________________________________________________________________\n",
            "dense (Dense)                (None, 16)                272       \n",
            "_________________________________________________________________\n",
            "dense_1 (Dense)              (None, 1)                 17        \n",
            "=================================================================\n",
            "Total params: 160,289\n",
            "Trainable params: 160,289\n",
            "Non-trainable params: 0\n",
            "_________________________________________________________________\n"
          ],
          "name": "stdout"
        }
      ]
    },
    {
      "cell_type": "code",
      "metadata": {
        "id": "wBsS4sXt8pCI",
        "colab_type": "code",
        "colab": {}
      },
      "source": [
        "model.compile(optimizer='adam',\n",
        "       loss='binary_crossentropy',\n",
        "       metrics=['accuracy'])"
      ],
      "execution_count": 0,
      "outputs": []
    },
    {
      "cell_type": "code",
      "metadata": {
        "id": "qYnjVe528vEW",
        "colab_type": "code",
        "colab": {}
      },
      "source": [
        "x_val = train_data[:10000]\n",
        "partial_x_train = train_data[10000:]\n",
        "\n",
        "y_val = train_labels[:10000]\n",
        "partial_y_train = train_labels[10000:]"
      ],
      "execution_count": 0,
      "outputs": []
    },
    {
      "cell_type": "code",
      "metadata": {
        "id": "f4y4thnD8xzu",
        "colab_type": "code",
        "colab": {
          "base_uri": "https://localhost:8080/",
          "height": 1000
        },
        "outputId": "2df7c538-cbba-4f88-ff7b-b752e5977e50"
      },
      "source": [
        "history = model.fit(partial_x_train,\n",
        "           partial_y_train,\n",
        "           epochs=40,\n",
        "           batch_size=512,\n",
        "           validation_data=(x_val, y_val),\n",
        "           verbose=1)"
      ],
      "execution_count": 32,
      "outputs": [
        {
          "output_type": "stream",
          "text": [
            "Train on 15000 samples, validate on 10000 samples\n",
            "Epoch 1/40\n",
            "15000/15000 [==============================] - 1s 79us/sample - loss: 0.6922 - accuracy: 0.5662 - val_loss: 0.6907 - val_accuracy: 0.5472\n",
            "Epoch 2/40\n",
            "15000/15000 [==============================] - 1s 44us/sample - loss: 0.6872 - accuracy: 0.6223 - val_loss: 0.6835 - val_accuracy: 0.6743\n",
            "Epoch 3/40\n",
            "15000/15000 [==============================] - 1s 46us/sample - loss: 0.6757 - accuracy: 0.7316 - val_loss: 0.6688 - val_accuracy: 0.7485\n",
            "Epoch 4/40\n",
            "15000/15000 [==============================] - 1s 45us/sample - loss: 0.6549 - accuracy: 0.7628 - val_loss: 0.6451 - val_accuracy: 0.7579\n",
            "Epoch 5/40\n",
            "15000/15000 [==============================] - 1s 47us/sample - loss: 0.6239 - accuracy: 0.7863 - val_loss: 0.6118 - val_accuracy: 0.7792\n",
            "Epoch 6/40\n",
            "15000/15000 [==============================] - 1s 46us/sample - loss: 0.5834 - accuracy: 0.8043 - val_loss: 0.5717 - val_accuracy: 0.7982\n",
            "Epoch 7/40\n",
            "15000/15000 [==============================] - 1s 46us/sample - loss: 0.5372 - accuracy: 0.8237 - val_loss: 0.5286 - val_accuracy: 0.8142\n",
            "Epoch 8/40\n",
            "15000/15000 [==============================] - 1s 47us/sample - loss: 0.4899 - accuracy: 0.8424 - val_loss: 0.4868 - val_accuracy: 0.8309\n",
            "Epoch 9/40\n",
            "15000/15000 [==============================] - 1s 45us/sample - loss: 0.4444 - accuracy: 0.8573 - val_loss: 0.4481 - val_accuracy: 0.8397\n",
            "Epoch 10/40\n",
            "15000/15000 [==============================] - 1s 45us/sample - loss: 0.4031 - accuracy: 0.8683 - val_loss: 0.4147 - val_accuracy: 0.8490\n",
            "Epoch 11/40\n",
            "15000/15000 [==============================] - 1s 46us/sample - loss: 0.3680 - accuracy: 0.8785 - val_loss: 0.3877 - val_accuracy: 0.8571\n",
            "Epoch 12/40\n",
            "15000/15000 [==============================] - 1s 46us/sample - loss: 0.3391 - accuracy: 0.8875 - val_loss: 0.3672 - val_accuracy: 0.8616\n",
            "Epoch 13/40\n",
            "15000/15000 [==============================] - 1s 45us/sample - loss: 0.3150 - accuracy: 0.8936 - val_loss: 0.3510 - val_accuracy: 0.8666\n",
            "Epoch 14/40\n",
            "15000/15000 [==============================] - 1s 46us/sample - loss: 0.2943 - accuracy: 0.8989 - val_loss: 0.3376 - val_accuracy: 0.8699\n",
            "Epoch 15/40\n",
            "15000/15000 [==============================] - 1s 45us/sample - loss: 0.2769 - accuracy: 0.9031 - val_loss: 0.3279 - val_accuracy: 0.8700\n",
            "Epoch 16/40\n",
            "15000/15000 [==============================] - 1s 46us/sample - loss: 0.2613 - accuracy: 0.9088 - val_loss: 0.3174 - val_accuracy: 0.8769\n",
            "Epoch 17/40\n",
            "15000/15000 [==============================] - 1s 48us/sample - loss: 0.2473 - accuracy: 0.9142 - val_loss: 0.3110 - val_accuracy: 0.8772\n",
            "Epoch 18/40\n",
            "15000/15000 [==============================] - 1s 46us/sample - loss: 0.2347 - accuracy: 0.9184 - val_loss: 0.3048 - val_accuracy: 0.8794\n",
            "Epoch 19/40\n",
            "15000/15000 [==============================] - 1s 45us/sample - loss: 0.2238 - accuracy: 0.9225 - val_loss: 0.2998 - val_accuracy: 0.8791\n",
            "Epoch 20/40\n",
            "15000/15000 [==============================] - 1s 46us/sample - loss: 0.2129 - accuracy: 0.9257 - val_loss: 0.2957 - val_accuracy: 0.8818\n",
            "Epoch 21/40\n",
            "15000/15000 [==============================] - 1s 45us/sample - loss: 0.2030 - accuracy: 0.9302 - val_loss: 0.2956 - val_accuracy: 0.8789\n",
            "Epoch 22/40\n",
            "15000/15000 [==============================] - 1s 45us/sample - loss: 0.1945 - accuracy: 0.9333 - val_loss: 0.2900 - val_accuracy: 0.8832\n",
            "Epoch 23/40\n",
            "15000/15000 [==============================] - 1s 46us/sample - loss: 0.1856 - accuracy: 0.9381 - val_loss: 0.2885 - val_accuracy: 0.8846\n",
            "Epoch 24/40\n",
            "15000/15000 [==============================] - 1s 45us/sample - loss: 0.1775 - accuracy: 0.9417 - val_loss: 0.2869 - val_accuracy: 0.8837\n",
            "Epoch 25/40\n",
            "15000/15000 [==============================] - 1s 45us/sample - loss: 0.1703 - accuracy: 0.9455 - val_loss: 0.2863 - val_accuracy: 0.8839\n",
            "Epoch 26/40\n",
            "15000/15000 [==============================] - 1s 45us/sample - loss: 0.1628 - accuracy: 0.9483 - val_loss: 0.2868 - val_accuracy: 0.8846\n",
            "Epoch 27/40\n",
            "15000/15000 [==============================] - 1s 45us/sample - loss: 0.1571 - accuracy: 0.9509 - val_loss: 0.2866 - val_accuracy: 0.8842\n",
            "Epoch 28/40\n",
            "15000/15000 [==============================] - 1s 45us/sample - loss: 0.1506 - accuracy: 0.9537 - val_loss: 0.2859 - val_accuracy: 0.8861\n",
            "Epoch 29/40\n",
            "15000/15000 [==============================] - 1s 45us/sample - loss: 0.1444 - accuracy: 0.9551 - val_loss: 0.2866 - val_accuracy: 0.8855\n",
            "Epoch 30/40\n",
            "15000/15000 [==============================] - 1s 45us/sample - loss: 0.1390 - accuracy: 0.9576 - val_loss: 0.2886 - val_accuracy: 0.8851\n",
            "Epoch 31/40\n",
            "15000/15000 [==============================] - 1s 46us/sample - loss: 0.1339 - accuracy: 0.9598 - val_loss: 0.2891 - val_accuracy: 0.8842\n",
            "Epoch 32/40\n",
            "15000/15000 [==============================] - 1s 49us/sample - loss: 0.1281 - accuracy: 0.9635 - val_loss: 0.2901 - val_accuracy: 0.8852\n",
            "Epoch 33/40\n",
            "15000/15000 [==============================] - 1s 44us/sample - loss: 0.1234 - accuracy: 0.9649 - val_loss: 0.2924 - val_accuracy: 0.8854\n",
            "Epoch 34/40\n",
            "15000/15000 [==============================] - 1s 43us/sample - loss: 0.1187 - accuracy: 0.9663 - val_loss: 0.2948 - val_accuracy: 0.8837\n",
            "Epoch 35/40\n",
            "15000/15000 [==============================] - 1s 45us/sample - loss: 0.1141 - accuracy: 0.9682 - val_loss: 0.2960 - val_accuracy: 0.8853\n",
            "Epoch 36/40\n",
            "15000/15000 [==============================] - 1s 44us/sample - loss: 0.1099 - accuracy: 0.9690 - val_loss: 0.2984 - val_accuracy: 0.8837\n",
            "Epoch 37/40\n",
            "15000/15000 [==============================] - 1s 45us/sample - loss: 0.1057 - accuracy: 0.9707 - val_loss: 0.3007 - val_accuracy: 0.8839\n",
            "Epoch 38/40\n",
            "15000/15000 [==============================] - 1s 46us/sample - loss: 0.1016 - accuracy: 0.9730 - val_loss: 0.3048 - val_accuracy: 0.8826\n",
            "Epoch 39/40\n",
            "15000/15000 [==============================] - 1s 46us/sample - loss: 0.0979 - accuracy: 0.9741 - val_loss: 0.3065 - val_accuracy: 0.8828\n",
            "Epoch 40/40\n",
            "15000/15000 [==============================] - 1s 46us/sample - loss: 0.0941 - accuracy: 0.9755 - val_loss: 0.3096 - val_accuracy: 0.8825\n"
          ],
          "name": "stdout"
        }
      ]
    },
    {
      "cell_type": "code",
      "metadata": {
        "id": "4DVpa7XpABlC",
        "colab_type": "code",
        "colab": {
          "base_uri": "https://localhost:8080/",
          "height": 52
        },
        "outputId": "7351777a-f1b5-462d-caec-8ca002bdb4f8"
      },
      "source": [
        "results = model.evaluate(test_data,  test_labels, verbose=2)\n",
        "\n",
        "print(results)"
      ],
      "execution_count": 34,
      "outputs": [
        {
          "output_type": "stream",
          "text": [
            "25000/25000 - 1s - loss: 0.3306 - accuracy: 0.8718\n",
            "[0.33057058638572695, 0.8718]\n"
          ],
          "name": "stdout"
        }
      ]
    },
    {
      "cell_type": "code",
      "metadata": {
        "id": "Tyotugd0A2he",
        "colab_type": "code",
        "colab": {
          "base_uri": "https://localhost:8080/",
          "height": 34
        },
        "outputId": "07835c69-2bcd-4ae2-b800-3171db0006a2"
      },
      "source": [
        "history_dict = history.history\n",
        "history_dict.keys()"
      ],
      "execution_count": 35,
      "outputs": [
        {
          "output_type": "execute_result",
          "data": {
            "text/plain": [
              "dict_keys(['loss', 'accuracy', 'val_loss', 'val_accuracy'])"
            ]
          },
          "metadata": {
            "tags": []
          },
          "execution_count": 35
        }
      ]
    },
    {
      "cell_type": "code",
      "metadata": {
        "id": "Xs8R-LW9A6Jv",
        "colab_type": "code",
        "colab": {
          "base_uri": "https://localhost:8080/",
          "height": 295
        },
        "outputId": "474dd85e-be6b-4805-edd1-e6faabfd7407"
      },
      "source": [
        "import matplotlib.pyplot as plt\n",
        "\n",
        "acc = history_dict['accuracy']\n",
        "val_acc = history_dict['val_accuracy']\n",
        "loss = history_dict['loss']\n",
        "val_loss = history_dict['val_loss']\n",
        "\n",
        "epochs = range(1, len(acc) + 1)\n",
        "\n",
        "# “bo”代表 \"蓝点\"\n",
        "plt.plot(epochs, loss, 'bo', label='Training loss')\n",
        "# b代表“蓝色实线”\n",
        "plt.plot(epochs, val_loss, 'b', label='Validation loss')\n",
        "plt.title('Training and validation loss')\n",
        "plt.xlabel('Epochs')\n",
        "plt.ylabel('Loss')\n",
        "plt.legend()\n",
        "\n",
        "plt.show()"
      ],
      "execution_count": 36,
      "outputs": [
        {
          "output_type": "display_data",
          "data": {
            "image/png": "[encoded data removed]",
            "text/plain": [
              "<Figure size 432x288 with 1 Axes>"
            ]
          },
          "metadata": {
            "tags": []
          }
        }
      ]
    },
    {
      "cell_type": "code",
      "metadata": {
        "id": "aHUUVZbiBIFO",
        "colab_type": "code",
        "colab": {
          "base_uri": "https://localhost:8080/",
          "height": 295
        },
        "outputId": "55db5a38-f588-4e13-d2ec-21f6e251c09e"
      },
      "source": [
        "plt.clf()   # 清除数字\n",
        "\n",
        "plt.plot(epochs, acc, 'bo', label='Training acc')\n",
        "plt.plot(epochs, val_acc, 'b', label='Validation acc')\n",
        "plt.title('Training and validation accuracy')\n",
        "plt.xlabel('Epochs')\n",
        "plt.ylabel('Accuracy')\n",
        "plt.legend()\n",
        "\n",
        "plt.show()"
      ],
      "execution_count": 37,
      "outputs": [
        {
          "output_type": "display_data",
          "data": {
            "image/png": "[encoded data removed]",
            "text/plain": [
              "<Figure size 432x288 with 1 Axes>"
            ]
          },
          "metadata": {
            "tags": []
          }
        }
      ]
    }
  ]
}