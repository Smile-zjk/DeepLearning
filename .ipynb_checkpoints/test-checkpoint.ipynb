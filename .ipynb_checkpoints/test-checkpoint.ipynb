{
 "cells": [
  {
   "cell_type": "markdown",
   "metadata": {},
   "source": [
    "# test demo"
   ]
  },
  {
   "cell_type": "code",
   "execution_count": 3,
   "metadata": {
    "collapsed": true,
    "jupyter": {
     "outputs_hidden": true
    }
   },
   "outputs": [
    {
     "name": "stderr",
     "output_type": "stream",
     "text": [
      "/home/zjk/data/anaconda3/envs/tf_1.11.0/lib/python3.6/site-packages/tensorflow/python/framework/dtypes.py:523: FutureWarning: Passing (type, 1) or '1type' as a synonym of type is deprecated; in a future version of numpy, it will be understood as (type, (1,)) / '(1,)type'.\n",
      "  _np_qint8 = np.dtype([(\"qint8\", np.int8, 1)])\n",
      "/home/zjk/data/anaconda3/envs/tf_1.11.0/lib/python3.6/site-packages/tensorflow/python/framework/dtypes.py:524: FutureWarning: Passing (type, 1) or '1type' as a synonym of type is deprecated; in a future version of numpy, it will be understood as (type, (1,)) / '(1,)type'.\n",
      "  _np_quint8 = np.dtype([(\"quint8\", np.uint8, 1)])\n",
      "/home/zjk/data/anaconda3/envs/tf_1.11.0/lib/python3.6/site-packages/tensorflow/python/framework/dtypes.py:525: FutureWarning: Passing (type, 1) or '1type' as a synonym of type is deprecated; in a future version of numpy, it will be understood as (type, (1,)) / '(1,)type'.\n",
      "  _np_qint16 = np.dtype([(\"qint16\", np.int16, 1)])\n",
      "/home/zjk/data/anaconda3/envs/tf_1.11.0/lib/python3.6/site-packages/tensorflow/python/framework/dtypes.py:526: FutureWarning: Passing (type, 1) or '1type' as a synonym of type is deprecated; in a future version of numpy, it will be understood as (type, (1,)) / '(1,)type'.\n",
      "  _np_quint16 = np.dtype([(\"quint16\", np.uint16, 1)])\n",
      "/home/zjk/data/anaconda3/envs/tf_1.11.0/lib/python3.6/site-packages/tensorflow/python/framework/dtypes.py:527: FutureWarning: Passing (type, 1) or '1type' as a synonym of type is deprecated; in a future version of numpy, it will be understood as (type, (1,)) / '(1,)type'.\n",
      "  _np_qint32 = np.dtype([(\"qint32\", np.int32, 1)])\n",
      "/home/zjk/data/anaconda3/envs/tf_1.11.0/lib/python3.6/site-packages/tensorflow/python/framework/dtypes.py:532: FutureWarning: Passing (type, 1) or '1type' as a synonym of type is deprecated; in a future version of numpy, it will be understood as (type, (1,)) / '(1,)type'.\n",
      "  np_resource = np.dtype([(\"resource\", np.ubyte, 1)])\n"
     ]
    }
   ],
   "source": [
    "import tensorflow as tf"
   ]
  },
  {
   "cell_type": "code",
   "execution_count": 4,
   "metadata": {},
   "outputs": [],
   "source": [
    "mnist = tf.keras.datasets.mnist"
   ]
  },
  {
   "cell_type": "code",
   "execution_count": 5,
   "metadata": {},
   "outputs": [],
   "source": [
    "(x_train, y_train),(x_test, y_test) = mnist.load_data()\n",
    "x_train, x_test = x_train / 255.0, x_test / 255.0"
   ]
  },
  {
   "cell_type": "code",
   "execution_count": 6,
   "metadata": {},
   "outputs": [],
   "source": [
    "model = tf.keras.models.Sequential([\n",
    "      tf.keras.layers.Flatten(input_shape=(28, 28)),\n",
    "        tf.keras.layers.Dense(128, activation='relu'),\n",
    "          tf.keras.layers.Dropout(0.2),\n",
    "            tf.keras.layers.Dense(10, activation='softmax')\n",
    "            ])"
   ]
  },
  {
   "cell_type": "code",
   "execution_count": 7,
   "metadata": {},
   "outputs": [],
   "source": [
    "model.compile(optimizer='adam',\n",
    "                      loss='sparse_categorical_crossentropy',\n",
    "                                    metrics=['accuracy'])"
   ]
  },
  {
   "cell_type": "code",
   "execution_count": 8,
   "metadata": {},
   "outputs": [
    {
     "name": "stdout",
     "output_type": "stream",
     "text": [
      "Epoch 1/5\n",
      "60000/60000 [==============================] - 14s 241us/step - loss: 0.2954 - acc: 0.9144\n",
      "Epoch 2/5\n",
      "60000/60000 [==============================] - 8s 139us/step - loss: 0.1430 - acc: 0.9582\n",
      "Epoch 3/5\n",
      "60000/60000 [==============================] - 8s 139us/step - loss: 0.1067 - acc: 0.9671\n",
      "Epoch 4/5\n",
      "60000/60000 [==============================] - 8s 138us/step - loss: 0.0876 - acc: 0.9729\n",
      "Epoch 5/5\n",
      "60000/60000 [==============================] - 8s 138us/step - loss: 0.0739 - acc: 0.9767\n"
     ]
    },
    {
     "data": {
      "text/plain": [
       "<tensorflow.python.keras.callbacks.History at 0x7f0944a69550>"
      ]
     },
     "execution_count": 8,
     "metadata": {},
     "output_type": "execute_result"
    }
   ],
   "source": [
    "model.fit(x_train, y_train, epochs=5)"
   ]
  },
  {
   "cell_type": "code",
   "execution_count": 9,
   "metadata": {},
   "outputs": [
    {
     "name": "stdout",
     "output_type": "stream",
     "text": [
      "10000/10000 [==============================] - 1s 68us/step\n"
     ]
    },
    {
     "data": {
      "text/plain": [
       "[0.07428867333638482, 0.9776]"
      ]
     },
     "execution_count": 9,
     "metadata": {},
     "output_type": "execute_result"
    }
   ],
   "source": [
    "model.evaluate(x_test, y_test)"
   ]
  },
  {
   "cell_type": "markdown",
   "metadata": {
    "toc-hr-collapsed": false
   },
   "source": [
    "# Keras可视化"
   ]
  },
  {
   "cell_type": "code",
   "execution_count": 11,
   "metadata": {},
   "outputs": [
    {
     "name": "stdout",
     "output_type": "stream",
     "text": [
      "Train on 45000 samples, validate on 15000 samples\n",
      "Epoch 1/50\n",
      "45000/45000 [==============================] - 14s 313us/step - loss: 0.0781 - acc: 0.9745 - val_loss: 0.0566 - val_acc: 0.9813\n",
      "Epoch 2/50\n",
      "45000/45000 [==============================] - 14s 312us/step - loss: 0.0634 - acc: 0.9794 - val_loss: 0.0612 - val_acc: 0.9805\n",
      "Epoch 3/50\n",
      "45000/45000 [==============================] - 14s 313us/step - loss: 0.0568 - acc: 0.9820 - val_loss: 0.0573 - val_acc: 0.9820\n",
      "Epoch 4/50\n",
      "45000/45000 [==============================] - 14s 313us/step - loss: 0.0516 - acc: 0.9836 - val_loss: 0.0657 - val_acc: 0.9805\n",
      "Epoch 5/50\n",
      "45000/45000 [==============================] - 14s 313us/step - loss: 0.0496 - acc: 0.9839 - val_loss: 0.0628 - val_acc: 0.9810\n",
      "Epoch 6/50\n",
      "45000/45000 [==============================] - 14s 313us/step - loss: 0.0440 - acc: 0.9852 - val_loss: 0.0653 - val_acc: 0.9801\n",
      "Epoch 7/50\n",
      "45000/45000 [==============================] - 14s 312us/step - loss: 0.0429 - acc: 0.9857 - val_loss: 0.0725 - val_acc: 0.9801\n",
      "Epoch 8/50\n",
      "45000/45000 [==============================] - 14s 313us/step - loss: 0.0387 - acc: 0.9871 - val_loss: 0.0703 - val_acc: 0.9794\n",
      "Epoch 9/50\n",
      "45000/45000 [==============================] - 14s 312us/step - loss: 0.0356 - acc: 0.9878 - val_loss: 0.0681 - val_acc: 0.9814\n",
      "Epoch 10/50\n",
      "45000/45000 [==============================] - 14s 313us/step - loss: 0.0346 - acc: 0.9879 - val_loss: 0.0796 - val_acc: 0.9794\n",
      "Epoch 11/50\n",
      "45000/45000 [==============================] - 14s 312us/step - loss: 0.0357 - acc: 0.9874 - val_loss: 0.0769 - val_acc: 0.9805\n",
      "Epoch 12/50\n",
      "45000/45000 [==============================] - 14s 312us/step - loss: 0.0297 - acc: 0.9892 - val_loss: 0.0739 - val_acc: 0.9811\n",
      "Epoch 13/50\n",
      "45000/45000 [==============================] - 14s 312us/step - loss: 0.0300 - acc: 0.9897 - val_loss: 0.0825 - val_acc: 0.9792\n",
      "Epoch 14/50\n",
      "45000/45000 [==============================] - 14s 312us/step - loss: 0.0295 - acc: 0.9900 - val_loss: 0.0793 - val_acc: 0.9816\n",
      "Epoch 15/50\n",
      "45000/45000 [==============================] - 14s 312us/step - loss: 0.0264 - acc: 0.9909 - val_loss: 0.0817 - val_acc: 0.9805\n",
      "Epoch 16/50\n",
      "45000/45000 [==============================] - 14s 312us/step - loss: 0.0280 - acc: 0.9907 - val_loss: 0.0868 - val_acc: 0.9802\n",
      "Epoch 17/50\n",
      "45000/45000 [==============================] - 14s 313us/step - loss: 0.0272 - acc: 0.9909 - val_loss: 0.0899 - val_acc: 0.9796\n",
      "Epoch 18/50\n",
      "45000/45000 [==============================] - 14s 312us/step - loss: 0.0267 - acc: 0.9912 - val_loss: 0.0885 - val_acc: 0.9803\n",
      "Epoch 19/50\n",
      "45000/45000 [==============================] - 14s 313us/step - loss: 0.0245 - acc: 0.9918 - val_loss: 0.0829 - val_acc: 0.9811\n",
      "Epoch 20/50\n",
      "45000/45000 [==============================] - 14s 312us/step - loss: 0.0247 - acc: 0.9920 - val_loss: 0.0951 - val_acc: 0.9805\n",
      "Epoch 21/50\n",
      "45000/45000 [==============================] - 14s 313us/step - loss: 0.0270 - acc: 0.9910 - val_loss: 0.1014 - val_acc: 0.9792\n",
      "Epoch 22/50\n",
      "45000/45000 [==============================] - 14s 312us/step - loss: 0.0242 - acc: 0.9921 - val_loss: 0.0948 - val_acc: 0.9809\n",
      "Epoch 23/50\n",
      "45000/45000 [==============================] - 14s 312us/step - loss: 0.0231 - acc: 0.9923 - val_loss: 0.0937 - val_acc: 0.9805\n",
      "Epoch 24/50\n",
      "45000/45000 [==============================] - 14s 313us/step - loss: 0.0229 - acc: 0.9919 - val_loss: 0.0926 - val_acc: 0.9809\n",
      "Epoch 25/50\n",
      "45000/45000 [==============================] - 14s 313us/step - loss: 0.0216 - acc: 0.9929 - val_loss: 0.1071 - val_acc: 0.9786\n",
      "Epoch 26/50\n",
      "45000/45000 [==============================] - 14s 312us/step - loss: 0.0219 - acc: 0.9927 - val_loss: 0.1038 - val_acc: 0.9796\n",
      "Epoch 27/50\n",
      "45000/45000 [==============================] - 14s 312us/step - loss: 0.0200 - acc: 0.9929 - val_loss: 0.1098 - val_acc: 0.9801\n",
      "Epoch 28/50\n",
      "45000/45000 [==============================] - 14s 313us/step - loss: 0.0211 - acc: 0.9933 - val_loss: 0.1042 - val_acc: 0.9813\n",
      "Epoch 29/50\n",
      "45000/45000 [==============================] - 14s 312us/step - loss: 0.0214 - acc: 0.9928 - val_loss: 0.1011 - val_acc: 0.9798\n",
      "Epoch 30/50\n",
      "45000/45000 [==============================] - 14s 312us/step - loss: 0.0222 - acc: 0.9930 - val_loss: 0.0966 - val_acc: 0.9809\n",
      "Epoch 31/50\n",
      "45000/45000 [==============================] - 14s 312us/step - loss: 0.0196 - acc: 0.9937 - val_loss: 0.1057 - val_acc: 0.9787\n",
      "Epoch 32/50\n",
      "45000/45000 [==============================] - 14s 312us/step - loss: 0.0225 - acc: 0.9928 - val_loss: 0.1038 - val_acc: 0.9801\n",
      "Epoch 33/50\n",
      "45000/45000 [==============================] - 14s 312us/step - loss: 0.0173 - acc: 0.9944 - val_loss: 0.1111 - val_acc: 0.9792\n",
      "Epoch 34/50\n",
      "45000/45000 [==============================] - 14s 313us/step - loss: 0.0190 - acc: 0.9937 - val_loss: 0.1073 - val_acc: 0.9803\n",
      "Epoch 35/50\n",
      "45000/45000 [==============================] - 14s 312us/step - loss: 0.0192 - acc: 0.9936 - val_loss: 0.1183 - val_acc: 0.9793\n",
      "Epoch 36/50\n",
      "45000/45000 [==============================] - 14s 313us/step - loss: 0.0204 - acc: 0.9937 - val_loss: 0.1164 - val_acc: 0.9783\n",
      "Epoch 37/50\n",
      "45000/45000 [==============================] - 14s 312us/step - loss: 0.0206 - acc: 0.9932 - val_loss: 0.1204 - val_acc: 0.9800\n",
      "Epoch 38/50\n",
      "45000/45000 [==============================] - 14s 313us/step - loss: 0.0172 - acc: 0.9942 - val_loss: 0.1034 - val_acc: 0.9821\n",
      "Epoch 39/50\n",
      "45000/45000 [==============================] - 14s 313us/step - loss: 0.0178 - acc: 0.9941 - val_loss: 0.1146 - val_acc: 0.9800\n",
      "Epoch 40/50\n",
      "45000/45000 [==============================] - 14s 312us/step - loss: 0.0164 - acc: 0.9948 - val_loss: 0.1237 - val_acc: 0.9794\n",
      "Epoch 41/50\n",
      "45000/45000 [==============================] - 14s 313us/step - loss: 0.0187 - acc: 0.9942 - val_loss: 0.1266 - val_acc: 0.9795\n",
      "Epoch 42/50\n",
      "45000/45000 [==============================] - 14s 312us/step - loss: 0.0178 - acc: 0.9944 - val_loss: 0.1188 - val_acc: 0.9799\n",
      "Epoch 43/50\n",
      "45000/45000 [==============================] - 14s 313us/step - loss: 0.0183 - acc: 0.9939 - val_loss: 0.1135 - val_acc: 0.9793\n",
      "Epoch 44/50\n",
      "45000/45000 [==============================] - 14s 312us/step - loss: 0.0173 - acc: 0.9946 - val_loss: 0.1175 - val_acc: 0.9803\n",
      "Epoch 45/50\n",
      "45000/45000 [==============================] - 14s 313us/step - loss: 0.0167 - acc: 0.9946 - val_loss: 0.1239 - val_acc: 0.9800\n",
      "Epoch 46/50\n",
      "45000/45000 [==============================] - 14s 312us/step - loss: 0.0180 - acc: 0.9944 - val_loss: 0.1195 - val_acc: 0.9798\n",
      "Epoch 47/50\n",
      "45000/45000 [==============================] - 14s 313us/step - loss: 0.0158 - acc: 0.9946 - val_loss: 0.1260 - val_acc: 0.9797\n",
      "Epoch 48/50\n",
      "45000/45000 [==============================] - 14s 312us/step - loss: 0.0163 - acc: 0.9948 - val_loss: 0.1317 - val_acc: 0.9799\n",
      "Epoch 49/50\n",
      "45000/45000 [==============================] - 14s 312us/step - loss: 0.0166 - acc: 0.9950 - val_loss: 0.1158 - val_acc: 0.9810\n",
      "Epoch 50/50\n",
      "45000/45000 [==============================] - 14s 312us/step - loss: 0.0163 - acc: 0.9947 - val_loss: 0.1316 - val_acc: 0.9792\n"
     ]
    }
   ],
   "source": [
    "import matplotlib.pyplot as plt\n",
    "\n",
    "history = model.fit(x_train, y_train, validation_split=0.25, epochs=50, batch_size=16, verbose=1)"
   ]
  },
  {
   "cell_type": "markdown",
   "metadata": {},
   "source": [
    "## 绘制训练 & 验证的准确率值"
   ]
  },
  {
   "cell_type": "code",
   "execution_count": 12,
   "metadata": {},
   "outputs": [
    {
     "data": {
      "image/png": "[encoded data removed]",
      "text/plain": [
       "<Figure size 432x288 with 1 Axes>"
      ]
     },
     "metadata": {
      "needs_background": "light"
     },
     "output_type": "display_data"
    }
   ],
   "source": [
    "plt.plot(history.history['acc'])\n",
    "plt.plot(history.history['val_acc'])\n",
    "plt.title('Model accuracy')\n",
    "plt.ylabel('Accuracy')\n",
    "plt.xlabel('Epoch')\n",
    "plt.legend(['Train', 'Test'], loc='upper left')\n",
    "plt.show()"
   ]
  },
  {
   "cell_type": "markdown",
   "metadata": {},
   "source": [
    "## 绘制训练 & 验证的损失值"
   ]
  },
  {
   "cell_type": "code",
   "execution_count": 13,
   "metadata": {},
   "outputs": [
    {
     "data": {
      "image/png": "[encoded data removed]",
      "text/plain": [
       "<Figure size 432x288 with 1 Axes>"
      ]
     },
     "metadata": {
      "needs_background": "light"
     },
     "output_type": "display_data"
    }
   ],
   "source": [
    "plt.plot(history.history['loss'])\n",
    "plt.plot(history.history['val_loss'])\n",
    "plt.title('Model loss')\n",
    "plt.ylabel('Loss')\n",
    "plt.xlabel('Epoch')\n",
    "plt.legend(['Train', 'Test'], loc='upper left')\n",
    "plt.show()"
   ]
  },
  {
   "cell_type": "code",
   "execution_count": null,
   "metadata": {},
   "outputs": [],
   "source": []
  }
 ],
 "metadata": {
  "kernelspec": {
   "display_name": "tf_1.11.0",
   "language": "python",
   "name": "tf_1.11.0"
  },
  "language_info": {
   "codemirror_mode": {
    "name": "ipython",
    "version": 3
   },
   "file_extension": ".py",
   "mimetype": "text/x-python",
   "name": "python",
   "nbconvert_exporter": "python",
   "pygments_lexer": "ipython3",
   "version": "3.6.9"
  }
 },
 "nbformat": 4,
 "nbformat_minor": 4
}
