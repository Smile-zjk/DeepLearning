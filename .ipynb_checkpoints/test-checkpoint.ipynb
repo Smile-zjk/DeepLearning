{
 "cells": [
  {
   "cell_type": "markdown",
   "metadata": {},
   "source": [
    "# test demo"
   ]
  },
  {
   "cell_type": "code",
   "execution_count": 1,
   "metadata": {},
   "outputs": [],
   "source": [
    "import os\n",
    "os.environ[\"CUDA_VISIBLE_DEVICES\"] = \"0\""
   ]
  },
  {
   "cell_type": "code",
   "execution_count": 2,
   "metadata": {
    "collapsed": true,
    "jupyter": {
     "outputs_hidden": true
    }
   },
   "outputs": [
    {
     "name": "stderr",
     "output_type": "stream",
     "text": [
      "/home/zjk/data/anaconda3/envs/tf_1.11.0/lib/python3.6/site-packages/tensorflow/python/framework/dtypes.py:523: FutureWarning: Passing (type, 1) or '1type' as a synonym of type is deprecated; in a future version of numpy, it will be understood as (type, (1,)) / '(1,)type'.\n",
      "  _np_qint8 = np.dtype([(\"qint8\", np.int8, 1)])\n",
      "/home/zjk/data/anaconda3/envs/tf_1.11.0/lib/python3.6/site-packages/tensorflow/python/framework/dtypes.py:524: FutureWarning: Passing (type, 1) or '1type' as a synonym of type is deprecated; in a future version of numpy, it will be understood as (type, (1,)) / '(1,)type'.\n",
      "  _np_quint8 = np.dtype([(\"quint8\", np.uint8, 1)])\n",
      "/home/zjk/data/anaconda3/envs/tf_1.11.0/lib/python3.6/site-packages/tensorflow/python/framework/dtypes.py:525: FutureWarning: Passing (type, 1) or '1type' as a synonym of type is deprecated; in a future version of numpy, it will be understood as (type, (1,)) / '(1,)type'.\n",
      "  _np_qint16 = np.dtype([(\"qint16\", np.int16, 1)])\n",
      "/home/zjk/data/anaconda3/envs/tf_1.11.0/lib/python3.6/site-packages/tensorflow/python/framework/dtypes.py:526: FutureWarning: Passing (type, 1) or '1type' as a synonym of type is deprecated; in a future version of numpy, it will be understood as (type, (1,)) / '(1,)type'.\n",
      "  _np_quint16 = np.dtype([(\"quint16\", np.uint16, 1)])\n",
      "/home/zjk/data/anaconda3/envs/tf_1.11.0/lib/python3.6/site-packages/tensorflow/python/framework/dtypes.py:527: FutureWarning: Passing (type, 1) or '1type' as a synonym of type is deprecated; in a future version of numpy, it will be understood as (type, (1,)) / '(1,)type'.\n",
      "  _np_qint32 = np.dtype([(\"qint32\", np.int32, 1)])\n",
      "/home/zjk/data/anaconda3/envs/tf_1.11.0/lib/python3.6/site-packages/tensorflow/python/framework/dtypes.py:532: FutureWarning: Passing (type, 1) or '1type' as a synonym of type is deprecated; in a future version of numpy, it will be understood as (type, (1,)) / '(1,)type'.\n",
      "  np_resource = np.dtype([(\"resource\", np.ubyte, 1)])\n"
     ]
    }
   ],
   "source": [
    "import tensorflow as tf"
   ]
  },
  {
   "cell_type": "code",
   "execution_count": 3,
   "metadata": {},
   "outputs": [],
   "source": [
    "gpu_options = tf.GPUOptions(allow_growth=True)\n",
    "sess = tf.Session(config=tf.ConfigProto(gpu_options=gpu_options)) "
   ]
  },
  {
   "cell_type": "code",
   "execution_count": 4,
   "metadata": {},
   "outputs": [],
   "source": [
    "mnist = tf.keras.datasets.mnist"
   ]
  },
  {
   "cell_type": "code",
   "execution_count": 5,
   "metadata": {},
   "outputs": [],
   "source": [
    "(x_train, y_train),(x_test, y_test) = mnist.load_data()\n",
    "x_train, x_test = x_train / 255.0, x_test / 255.0"
   ]
  },
  {
   "cell_type": "code",
   "execution_count": 6,
   "metadata": {},
   "outputs": [],
   "source": [
    "model = tf.keras.models.Sequential([\n",
    "      tf.keras.layers.Flatten(input_shape=(28, 28)),\n",
    "        tf.keras.layers.Dense(128, activation='relu'),\n",
    "          tf.keras.layers.Dropout(0.2),\n",
    "            tf.keras.layers.Dense(10, activation='softmax')\n",
    "            ])"
   ]
  },
  {
   "cell_type": "code",
   "execution_count": 7,
   "metadata": {},
   "outputs": [],
   "source": [
    "model.compile(optimizer='adam',\n",
    "                      loss='sparse_categorical_crossentropy',\n",
    "                                    metrics=['accuracy'])"
   ]
  },
  {
   "cell_type": "code",
   "execution_count": 8,
   "metadata": {},
   "outputs": [
    {
     "name": "stdout",
     "output_type": "stream",
     "text": [
      "Epoch 1/5\n",
      "60000/60000 [==============================] - 11s 181us/step - loss: 0.2975 - acc: 0.9126\n",
      "Epoch 2/5\n",
      "60000/60000 [==============================] - 8s 130us/step - loss: 0.1442 - acc: 0.9569\n",
      "Epoch 3/5\n",
      "60000/60000 [==============================] - 10s 159us/step - loss: 0.1061 - acc: 0.9688\n",
      "Epoch 4/5\n",
      "60000/60000 [==============================] - 10s 160us/step - loss: 0.0880 - acc: 0.9732\n",
      "Epoch 5/5\n",
      "60000/60000 [==============================] - 10s 162us/step - loss: 0.0738 - acc: 0.9768\n"
     ]
    },
    {
     "data": {
      "text/plain": [
       "<tensorflow.python.keras.callbacks.History at 0x7f46ad673e80>"
      ]
     },
     "execution_count": 8,
     "metadata": {},
     "output_type": "execute_result"
    }
   ],
   "source": [
    "model.fit(x_train, y_train, epochs=5)"
   ]
  },
  {
   "cell_type": "code",
   "execution_count": 9,
   "metadata": {},
   "outputs": [
    {
     "name": "stdout",
     "output_type": "stream",
     "text": [
      "10000/10000 [==============================] - 1s 78us/step\n"
     ]
    },
    {
     "data": {
      "text/plain": [
       "[0.06949755695387722, 0.9793]"
      ]
     },
     "execution_count": 9,
     "metadata": {},
     "output_type": "execute_result"
    }
   ],
   "source": [
    "model.evaluate(x_test, y_test)"
   ]
  },
  {
   "cell_type": "markdown",
   "metadata": {
    "toc-hr-collapsed": false
   },
   "source": [
    "# Keras可视化"
   ]
  },
  {
   "cell_type": "code",
   "execution_count": 10,
   "metadata": {},
   "outputs": [
    {
     "name": "stdout",
     "output_type": "stream",
     "text": [
      "Train on 45000 samples, validate on 15000 samples\n",
      "Epoch 1/50\n",
      "45000/45000 [==============================] - 16s 362us/step - loss: 0.0788 - acc: 0.9754 - val_loss: 0.0590 - val_acc: 0.9801\n",
      "Epoch 2/50\n",
      "45000/45000 [==============================] - 16s 359us/step - loss: 0.0650 - acc: 0.9795 - val_loss: 0.0574 - val_acc: 0.9815\n",
      "Epoch 3/50\n",
      "45000/45000 [==============================] - 16s 361us/step - loss: 0.0581 - acc: 0.9804 - val_loss: 0.0580 - val_acc: 0.9807\n",
      "Epoch 4/50\n",
      "45000/45000 [==============================] - 16s 361us/step - loss: 0.0541 - acc: 0.9827 - val_loss: 0.0597 - val_acc: 0.9818\n",
      "Epoch 5/50\n",
      "45000/45000 [==============================] - 13s 282us/step - loss: 0.0458 - acc: 0.9851 - val_loss: 0.0683 - val_acc: 0.9807\n",
      "Epoch 6/50\n",
      "45000/45000 [==============================] - 16s 351us/step - loss: 0.0430 - acc: 0.9856 - val_loss: 0.0640 - val_acc: 0.9814\n",
      "Epoch 7/50\n",
      "45000/45000 [==============================] - 16s 362us/step - loss: 0.0418 - acc: 0.9867 - val_loss: 0.0680 - val_acc: 0.9813\n",
      "Epoch 8/50\n",
      "45000/45000 [==============================] - 16s 362us/step - loss: 0.0381 - acc: 0.9874 - val_loss: 0.0680 - val_acc: 0.9808\n",
      "Epoch 9/50\n",
      "45000/45000 [==============================] - 16s 362us/step - loss: 0.0359 - acc: 0.9874 - val_loss: 0.0692 - val_acc: 0.9813\n",
      "Epoch 10/50\n",
      "45000/45000 [==============================] - 15s 333us/step - loss: 0.0345 - acc: 0.9881 - val_loss: 0.0699 - val_acc: 0.9804\n",
      "Epoch 11/50\n",
      "45000/45000 [==============================] - 16s 360us/step - loss: 0.0325 - acc: 0.9889 - val_loss: 0.0926 - val_acc: 0.9766\n",
      "Epoch 12/50\n",
      "45000/45000 [==============================] - 14s 306us/step - loss: 0.0310 - acc: 0.9893 - val_loss: 0.0803 - val_acc: 0.9807\n",
      "Epoch 13/50\n",
      "45000/45000 [==============================] - 14s 303us/step - loss: 0.0310 - acc: 0.9901 - val_loss: 0.0797 - val_acc: 0.9804\n",
      "Epoch 14/50\n",
      "45000/45000 [==============================] - 13s 289us/step - loss: 0.0300 - acc: 0.9897 - val_loss: 0.0815 - val_acc: 0.9805\n",
      "Epoch 15/50\n",
      "45000/45000 [==============================] - 14s 319us/step - loss: 0.0282 - acc: 0.9901 - val_loss: 0.0829 - val_acc: 0.9813\n",
      "Epoch 16/50\n",
      "45000/45000 [==============================] - 15s 333us/step - loss: 0.0276 - acc: 0.9911 - val_loss: 0.0810 - val_acc: 0.9813\n",
      "Epoch 17/50\n",
      "45000/45000 [==============================] - 15s 332us/step - loss: 0.0277 - acc: 0.9903 - val_loss: 0.0824 - val_acc: 0.9811\n",
      "Epoch 18/50\n",
      "45000/45000 [==============================] - 16s 357us/step - loss: 0.0242 - acc: 0.9917 - val_loss: 0.0836 - val_acc: 0.9810\n",
      "Epoch 19/50\n",
      "45000/45000 [==============================] - 14s 301us/step - loss: 0.0247 - acc: 0.9917 - val_loss: 0.0941 - val_acc: 0.9788\n",
      "Epoch 20/50\n",
      "45000/45000 [==============================] - 13s 283us/step - loss: 0.0245 - acc: 0.9917 - val_loss: 0.0868 - val_acc: 0.9820\n",
      "Epoch 21/50\n",
      "45000/45000 [==============================] - 14s 317us/step - loss: 0.0253 - acc: 0.9914 - val_loss: 0.0991 - val_acc: 0.9787\n",
      "Epoch 22/50\n",
      "45000/45000 [==============================] - 11s 250us/step - loss: 0.0230 - acc: 0.9924 - val_loss: 0.0929 - val_acc: 0.9817\n",
      "Epoch 23/50\n",
      "45000/45000 [==============================] - 13s 296us/step - loss: 0.0204 - acc: 0.9928 - val_loss: 0.0966 - val_acc: 0.9806\n",
      "Epoch 24/50\n",
      "45000/45000 [==============================] - 14s 321us/step - loss: 0.0226 - acc: 0.9922 - val_loss: 0.1007 - val_acc: 0.9788\n",
      "Epoch 25/50\n",
      "45000/45000 [==============================] - 16s 361us/step - loss: 0.0209 - acc: 0.9932 - val_loss: 0.1036 - val_acc: 0.9789\n",
      "Epoch 26/50\n",
      "45000/45000 [==============================] - 16s 362us/step - loss: 0.0225 - acc: 0.9926 - val_loss: 0.0965 - val_acc: 0.9795\n",
      "Epoch 27/50\n",
      "45000/45000 [==============================] - 16s 363us/step - loss: 0.0207 - acc: 0.9929 - val_loss: 0.1000 - val_acc: 0.9805\n",
      "Epoch 28/50\n",
      "45000/45000 [==============================] - 15s 344us/step - loss: 0.0192 - acc: 0.9937 - val_loss: 0.1067 - val_acc: 0.9789\n",
      "Epoch 29/50\n",
      "45000/45000 [==============================] - 12s 275us/step - loss: 0.0213 - acc: 0.9927 - val_loss: 0.1043 - val_acc: 0.9794\n",
      "Epoch 30/50\n",
      "45000/45000 [==============================] - 16s 349us/step - loss: 0.0180 - acc: 0.9943 - val_loss: 0.1091 - val_acc: 0.9781\n",
      "Epoch 31/50\n",
      "45000/45000 [==============================] - 16s 362us/step - loss: 0.0188 - acc: 0.9938 - val_loss: 0.1168 - val_acc: 0.9790\n",
      "Epoch 32/50\n",
      "45000/45000 [==============================] - 16s 362us/step - loss: 0.0199 - acc: 0.9934 - val_loss: 0.1047 - val_acc: 0.9809\n",
      "Epoch 33/50\n",
      "45000/45000 [==============================] - 16s 363us/step - loss: 0.0194 - acc: 0.9937 - val_loss: 0.1181 - val_acc: 0.9774\n",
      "Epoch 34/50\n",
      "45000/45000 [==============================] - 16s 360us/step - loss: 0.0197 - acc: 0.9935 - val_loss: 0.1114 - val_acc: 0.9796\n",
      "Epoch 35/50\n",
      "45000/45000 [==============================] - 16s 361us/step - loss: 0.0188 - acc: 0.9936 - val_loss: 0.1053 - val_acc: 0.9801\n",
      "Epoch 36/50\n",
      "45000/45000 [==============================] - 16s 361us/step - loss: 0.0170 - acc: 0.9947 - val_loss: 0.1060 - val_acc: 0.9807\n",
      "Epoch 37/50\n",
      "45000/45000 [==============================] - 16s 361us/step - loss: 0.0187 - acc: 0.9940 - val_loss: 0.1151 - val_acc: 0.9797\n",
      "Epoch 38/50\n",
      "45000/45000 [==============================] - 16s 361us/step - loss: 0.0181 - acc: 0.9940 - val_loss: 0.1195 - val_acc: 0.9789\n",
      "Epoch 39/50\n",
      "45000/45000 [==============================] - 16s 361us/step - loss: 0.0192 - acc: 0.9936 - val_loss: 0.1133 - val_acc: 0.9801\n",
      "Epoch 40/50\n",
      "45000/45000 [==============================] - 16s 362us/step - loss: 0.0158 - acc: 0.9945 - val_loss: 0.1184 - val_acc: 0.9793\n",
      "Epoch 41/50\n",
      "45000/45000 [==============================] - 16s 361us/step - loss: 0.0203 - acc: 0.9936 - val_loss: 0.1076 - val_acc: 0.9807\n",
      "Epoch 42/50\n",
      "45000/45000 [==============================] - 16s 359us/step - loss: 0.0159 - acc: 0.9948 - val_loss: 0.1103 - val_acc: 0.9813\n",
      "Epoch 43/50\n",
      "45000/45000 [==============================] - 16s 361us/step - loss: 0.0157 - acc: 0.9946 - val_loss: 0.1207 - val_acc: 0.9794\n",
      "Epoch 44/50\n",
      "45000/45000 [==============================] - 16s 362us/step - loss: 0.0168 - acc: 0.9946 - val_loss: 0.1224 - val_acc: 0.9786\n",
      "Epoch 45/50\n",
      "45000/45000 [==============================] - 16s 359us/step - loss: 0.0157 - acc: 0.9946 - val_loss: 0.1261 - val_acc: 0.9789\n",
      "Epoch 46/50\n",
      "45000/45000 [==============================] - 16s 361us/step - loss: 0.0167 - acc: 0.9948 - val_loss: 0.1138 - val_acc: 0.9809\n",
      "Epoch 47/50\n",
      "45000/45000 [==============================] - 16s 362us/step - loss: 0.0153 - acc: 0.9954 - val_loss: 0.1235 - val_acc: 0.9789\n",
      "Epoch 48/50\n",
      "45000/45000 [==============================] - 16s 362us/step - loss: 0.0183 - acc: 0.9940 - val_loss: 0.1235 - val_acc: 0.9789\n",
      "Epoch 49/50\n",
      "45000/45000 [==============================] - 16s 361us/step - loss: 0.0167 - acc: 0.9949 - val_loss: 0.1139 - val_acc: 0.9796\n",
      "Epoch 50/50\n",
      "45000/45000 [==============================] - 16s 362us/step - loss: 0.0167 - acc: 0.9947 - val_loss: 0.1206 - val_acc: 0.9811\n"
     ]
    }
   ],
   "source": [
    "import matplotlib.pyplot as plt\n",
    "\n",
    "history = model.fit(x_train, y_train, validation_split=0.25, epochs=50, batch_size=16, verbose=1)"
   ]
  },
  {
   "cell_type": "markdown",
   "metadata": {},
   "source": [
    "## 绘制训练 & 验证的准确率值"
   ]
  },
  {
   "cell_type": "code",
   "execution_count": 11,
   "metadata": {},
   "outputs": [
    {
     "data": {
      "image/png": "[encoded data removed]",
      "text/plain": [
       "<Figure size 432x288 with 1 Axes>"
      ]
     },
     "metadata": {
      "needs_background": "light"
     },
     "output_type": "display_data"
    }
   ],
   "source": [
    "plt.plot(history.history['acc'])\n",
    "plt.plot(history.history['val_acc'])\n",
    "plt.title('Model accuracy')\n",
    "plt.ylabel('Accuracy')\n",
    "plt.xlabel('Epoch')\n",
    "plt.legend(['Train', 'Test'], loc='upper left')\n",
    "plt.show()"
   ]
  },
  {
   "cell_type": "markdown",
   "metadata": {},
   "source": [
    "## 绘制训练 & 验证的损失值"
   ]
  },
  {
   "cell_type": "code",
   "execution_count": 12,
   "metadata": {},
   "outputs": [
    {
     "data": {
      "image/png": "[encoded data removed]",
      "text/plain": [
       "<Figure size 432x288 with 1 Axes>"
      ]
     },
     "metadata": {
      "needs_background": "light"
     },
     "output_type": "display_data"
    }
   ],
   "source": [
    "plt.plot(history.history['loss'])\n",
    "plt.plot(history.history['val_loss'])\n",
    "plt.title('Model loss')\n",
    "plt.ylabel('Loss')\n",
    "plt.xlabel('Epoch')\n",
    "plt.legend(['Train', 'Test'], loc='upper left')\n",
    "plt.show()"
   ]
  },
  {
   "cell_type": "code",
   "execution_count": null,
   "metadata": {},
   "outputs": [],
   "source": []
  }
 ],
 "metadata": {
  "kernelspec": {
   "display_name": "tf_1.11.0",
   "language": "python",
   "name": "tf_1.11.0"
  },
  "language_info": {
   "codemirror_mode": {
    "name": "ipython",
    "version": 3
   },
   "file_extension": ".py",
   "mimetype": "text/x-python",
   "name": "python",
   "nbconvert_exporter": "python",
   "pygments_lexer": "ipython3",
   "version": "3.6.9"
  }
 },
 "nbformat": 4,
 "nbformat_minor": 4
}
